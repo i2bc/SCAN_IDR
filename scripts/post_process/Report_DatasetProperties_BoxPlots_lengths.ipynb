{
 "cells": [
  {
   "cell_type": "markdown",
   "metadata": {},
   "source": [
    "## Analysis of the Distribution of the Correct Hits ##"
   ]
  },
  {
   "cell_type": "code",
   "execution_count": null,
   "metadata": {},
   "outputs": [],
   "source": [
    "import os\n",
    "import pandas as pd\n",
    "import numpy as np\n",
    "import math\n",
    "\n",
    "%matplotlib inline\n",
    "import matplotlib.pyplot as plt\n",
    "from plotly import __version__\n",
    "print(__version__)\n",
    "\n",
    "import plotly.express as px\n",
    "import plotly.graph_objects as go\n",
    "from plotly.colors import n_colors\n",
    "from plotly.subplots import make_subplots\n",
    "\n",
    "\n",
    "from plotly.offline import download_plotlyjs, init_notebook_mode,plot,iplot\n",
    "init_notebook_mode(connected=True)  #connect with Javascript\n",
    "\n",
    "import numpy as np\n",
    "import scipy.special\n",
    "\n",
    "list_protocols=\"\"\"\n",
    "'mixed_ali-delim-delim',\n",
    "'single_pep-delim-delim',\n",
    "'unpaired_ali-delim-delim',\n",
    "'mixed_ali-fl-fl',\n",
    "'mixed_ali-delim-fl',\n",
    "'unpaired_ali-delim-fl',\n",
    "'mixed_ali-delim-200',\n",
    "'mixed_ali-delim-100',\n",
    "'single_pep-delim-100',\n",
    "'single_pep-delim-200'\n",
    "\"\"\"\n",
    "\n"
   ]
  },
  {
   "cell_type": "markdown",
   "metadata": {},
   "source": [
    "### Recover the environment variable in the config file ###"
   ]
  },
  {
   "cell_type": "code",
   "execution_count": null,
   "metadata": {},
   "outputs": [],
   "source": [
    "import configparser\n",
    "\n",
    "#script_path = os.path.abspath(__file__)\n",
    "script_dir = \"../\" #os.path.dirname(os.path.dirname(script_path))\n",
    "\n",
    "config = configparser.ConfigParser()\n",
    "config.read(os.path.join(f'{script_dir}', 'config.ini'))\n",
    "\n",
    "WORKING_DIR = os.path.abspath(\"../..\") #config['DEFAULT']['WORKING_DIR']\"\"\n",
    "DATA_DIR = os.path.abspath(os.path.join(WORKING_DIR, 'data', ))\n",
    "\n",
    "\n",
    "CUTMODELS_DIR = os.path.abspath(os.path.join(DATA_DIR, config['DEFAULT']['CUTMODELS_DIR']))\n",
    "CAPRIEVAL_DIR = os.path.abspath(os.path.join(DATA_DIR, config['DEFAULT']['CAPRIEVAL_DIR']))\n",
    "REFERENCE_STRUCT_DIR = os.path.abspath(os.path.join(DATA_DIR, config['DEFAULT']['REFERENCE_DIR']))\n",
    "\n",
    "n_iterations = int(config['DEFAULT']['N_ITERATIONS'])\n",
    "\n",
    "RESULTS_DIR = os.path.abspath(os.path.join(DATA_DIR, config['DEFAULT']['RESULTS_DIR']))\n",
    "fglobaloutput_path = os.path.abspath(os.path.join(RESULTS_DIR, config['DEFAULT']['OUTPUT_GLOBAL']))"
   ]
  },
  {
   "cell_type": "code",
   "execution_count": null,
   "metadata": {},
   "outputs": [],
   "source": [
    "path = RESULTS_DIR\n",
    "path_figures = os.path.join(path, 'Figures')\n",
    "if not os.path.isdir(path_figures):\n",
    "    os.system(f\"mkdir {path_figures}\")\n",
    "DO_DUMP_FIGURES = False\n",
    "\n",
    "Ncol = 23\n",
    "path2file = fglobaloutput_path\n",
    "\n",
    "list_header = []\n",
    "with open(path2file) as fin:\n",
    "    f = fin.readlines()[:Ncol]\n",
    "    for l in f:\n",
    "        s = l.split()[-1]\n",
    "        colname = s.split(':')[1]\n",
    "        list_header.append(colname)\n",
    "\n",
    "df = pd.read_table(path2file, sep=\"\\t\", header = None, names = list_header, skiprows=Ncol, low_memory=False)\n",
    "\n",
    "\n",
    "df"
   ]
  },
  {
   "cell_type": "code",
   "execution_count": null,
   "metadata": {},
   "outputs": [],
   "source": [
    "#\n",
    "# IF NEEDED : Which PDB to exclude :\n",
    "#  add to list_exclude elements as <index>_<PDB> \n",
    "#\n",
    "\n",
    "list_exclude = []"
   ]
  },
  {
   "cell_type": "code",
   "execution_count": null,
   "metadata": {},
   "outputs": [],
   "source": [
    "\n",
    "df_with_index = df.set_index(\"index_pdb\")\n",
    "df = df_with_index.drop(list_exclude)\n",
    "df = df.reset_index()\n"
   ]
  },
  {
   "cell_type": "code",
   "execution_count": null,
   "metadata": {},
   "outputs": [],
   "source": [
    "list_entries_sorted = [y[1] for y in sorted([[int(x.split('_')[0]), x] for x in list(set(df['index_pdb']))])]\n",
    "print(list_entries_sorted)\n",
    "print(len(list_entries_sorted))\n",
    "list_conditions = [x for x in list(set(df['protocol']))]\n",
    "print(list_conditions)"
   ]
  },
  {
   "cell_type": "code",
   "execution_count": null,
   "metadata": {},
   "outputs": [],
   "source": [
    "\n",
    "dfsampledelim = df.loc[(df['protocol']=='mixed_ali-delim-delim') & (df['AF2Rank']==1) & (df['version']==1)]\n",
    "dfsampleFL = df.loc[(df['protocol']=='mixed_ali-fl-fl') & (df['AF2Rank']==1) & (df['version']==1)]\n",
    "dfsampledelFL = df.loc[(df['protocol']=='mixed_ali-delim-fl') & (df['AF2Rank']==1) & (df['version']==1)]\n",
    "#print(dfsampledelim['SizeModel'])\n",
    "fig = go.Figure()\n",
    "\n",
    "fig.add_trace(go.Box(x=dfsampleFL['SizeModel'], line=dict(color='black'),))\n",
    "fig.add_trace(go.Box(x=dfsampledelFL['SizeModel'], line=dict(color='black'),))\n",
    "fig.add_trace(go.Box(x=dfsampledelim['SizeModel'], line=dict(color='black')))\n",
    "\n",
    "#fig.add_trace(go.Histogram(x=x1))\n",
    "\n",
    "# Overlay both histograms\n",
    "fig.update_layout(barmode='overlay', template='simple_white')\n",
    "fig.update_layout(autosize=False,\n",
    "    width=700,\n",
    "    height=300,\n",
    "    font=dict(\n",
    "    family=\"Arial\",\n",
    "    size=16,\n",
    "    ),\n",
    "    showlegend=False,\n",
    "    yaxis=dict(\n",
    "        ticktext=[\"Full-Length Protein Partners\",\n",
    "                  \"Delimited Receptor / Full-Length Partner\",\n",
    "                  \"Delimited Receptor / Peptide Ligand\"],\n",
    "        tickvals=[0, 1, 2],\n",
    "        tickmode=\"array\",\n",
    "        tickfont=dict(size=16),\n",
    "    ),\n",
    "    xaxis=dict(\n",
    "        title='Inputs Size',\n",
    "        #ticktext=[\"Full-Length Proteins\",\"Domain-Peptide\"],\n",
    "        #tickvals=[0, 1],\n",
    "        #tickmode=\"array\",\n",
    "        tickfont=dict(size=16),\n",
    "        titlefont=dict(size=16),\n",
    "    ),\n",
    "                 )\n",
    "\n",
    "# Reduce opacity to see both histograms\n",
    "fig.update_traces(opacity=1.0)\n",
    "if DO_DUMP_FIGURES:\n",
    "    fig.write_image(os.path.join(path,f\"AnalysesForFigures\", f\"Figures\", f\"Dataset_properties{extension}_LengthBarplot.svg\"))\n",
    "\n",
    "fig.show()"
   ]
  },
  {
   "cell_type": "code",
   "execution_count": null,
   "metadata": {},
   "outputs": [],
   "source": []
  }
 ],
 "metadata": {
  "kernelspec": {
   "display_name": "Python 3 (ipykernel)",
   "language": "python",
   "name": "python3"
  },
  "language_info": {
   "codemirror_mode": {
    "name": "ipython",
    "version": 3
   },
   "file_extension": ".py",
   "mimetype": "text/x-python",
   "name": "python",
   "nbconvert_exporter": "python",
   "pygments_lexer": "ipython3",
   "version": "3.8.16"
  }
 },
 "nbformat": 4,
 "nbformat_minor": 4
}
